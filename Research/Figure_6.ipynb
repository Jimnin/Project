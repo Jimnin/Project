{
 "cells": [
  {
   "cell_type": "markdown",
   "id": "19e4a0fa",
   "metadata": {},
   "source": [
    "# 필요한 라이브러리 불러오기"
   ]
  },
  {
   "cell_type": "code",
   "execution_count": 1,
   "id": "354d7574",
   "metadata": {},
   "outputs": [
    {
     "data": {
      "text/plain": [
       "<matplotlib.pyplot._IoffContext at 0x18443d0abc8>"
      ]
     },
     "execution_count": 1,
     "metadata": {},
     "output_type": "execute_result"
    }
   ],
   "source": [
    "import sys, os\n",
    "import numpy as np\n",
    "import pandas as pd\n",
    "from datetime import datetime, timedelta\n",
    "from matplotlib import pyplot as plt\n",
    "from matplotlib import cm\n",
    "from scipy.optimize import curve_fit # LSM을 실시하기 위해서 불러오기\n",
    "import matplotlib.patches as mpatches\n",
    "\n",
    "plt.ioff()"
   ]
  },
  {
   "cell_type": "markdown",
   "id": "7c0bb4e8",
   "metadata": {},
   "source": [
    "# 데이터 불러오기 및 필요한 변수 정의"
   ]
  },
  {
   "cell_type": "code",
   "execution_count": 2,
   "id": "6ec99cb1",
   "metadata": {},
   "outputs": [
    {
     "name": "stdout",
     "output_type": "stream",
     "text": [
      "Data 변수 할당\n"
     ]
    }
   ],
   "source": [
    "# 디렉토리 변경 및 필요한 데이터 불러오기\n",
    "os.chdir('C:/Users/hjm01/Desktop/겨울방학/alfven')\n",
    "\n",
    "csv_list = ['helios1_1975.csv','helios1_1976.csv','helios1_1977.csv']\n",
    "\n",
    "for i in csv_list:\n",
    "    Data_helios = pd.read_csv(i,index_col='Time',parse_dates=True)\n",
    "    try:\n",
    "        Data = pd.concat([Data,Data_helios])\n",
    "    except NameError:\n",
    "        Data = Data_helios\n",
    "        print(\"Data 변수 할당\")\n",
    "\n",
    "# 플라즈마 변수들 정의하기\n",
    "Data['angle'] = Data['angle'].apply(lambda x : (x - 180) if (x > 90) else x)\n",
    "Data['angle'] = abs(Data['angle'])\n",
    "\n",
    "Data['ex_t'] = (1.5*10**8)*Data['r_sun']/Data['v']\n",
    "\n",
    "k = 1.38*10**(-16);e = 4.8*10**(-10); m = 1.67*10**(-24) #g\n",
    "Data['logarithm'] = np.log((3*np.sqrt(k*Data['T'])**3)/(2*e**3*np.sqrt(Data['n_p']*np.pi)))\n",
    "\n",
    "up = 4*np.sqrt(np.pi)*e**4*Data['n_p']*Data['logarithm']\n",
    "down = 3*np.sqrt(m)*np.sqrt(k*Data['T'])**3\n",
    "\n",
    "Data['chandran_fre'] = up/down\n",
    "\n",
    "Data['c_n'] = Data['ex_t']*Data['chandran_fre']\n",
    "\n",
    "k = 8.617*10**(-5) # CGS단위에서 SI단위계로 변경\n",
    "Data['entro'] = (k*Data['T'])/Data['n_p']**(2/3)\n",
    "\n",
    "Data['alf_v'] = (Data['B']*10**(-10))/np.sqrt(4*np.pi*Data['n_p']*m)"
   ]
  },
  {
   "cell_type": "markdown",
   "id": "d8251f47",
   "metadata": {},
   "source": [
    "# 미리 분류 해놓은 특징에 따라 리스트 구성"
   ]
  },
  {
   "cell_type": "code",
   "execution_count": 3,
   "id": "ffa33f46",
   "metadata": {},
   "outputs": [
    {
     "name": "stdout",
     "output_type": "stream",
     "text": [
      "list 변수 할당\n"
     ]
    }
   ],
   "source": [
    "# 미리 분류 해놓은 시간 리스트 불러오기\n",
    "list_list = ['minimum/h1_1975.csv','minimum/h1_1976.csv','minimum/h1_1977.csv']\n",
    "\n",
    "for j in list_list:\n",
    "    Data_list = pd.read_csv(j,index_col=0)\n",
    "    Data_list.columns = [['start','start','start','end','end','end','type'],['day','hour','min','day','hour','min','type']]\n",
    "    Data_list['year'] = j[11:15]\n",
    "    try:\n",
    "        time_list = pd.concat([time_list,Data_list.drop(Data_list.index[0])])\n",
    "    except NameError:\n",
    "        time_list = Data_list.drop(Data_list.index[0])\n",
    "        print(\"list 변수 할당\")\n",
    "\n",
    "# 특징에 따라서 A, B, C로 시간 리스트 구성\n",
    "list_A = time_list[time_list['type']['type'] == 'a'][['start','end','year']].astype(int)\n",
    "list_B = time_list[time_list['type']['type'] == 'b'][['start','end','year']].astype(int)\n",
    "list_C = time_list[time_list['type']['type'] == 'c'][['start','end','year']].astype(int)"
   ]
  },
  {
   "cell_type": "code",
   "execution_count": 4,
   "id": "723b42ae",
   "metadata": {},
   "outputs": [],
   "source": [
    "# 그리고 싶은 변수 지정 및 연도에 따라서 다른 색깔 지정\n",
    "para = \"c_n\"\n",
    "\n",
    "color = {1975 : \"red\", 1976 : \"blue\", 1977 : \"green\"}\n",
    "\n",
    "# LSM을 위해서 빈 리스트 지정\n",
    "r_list = [];mean_list = [];std_list = []"
   ]
  },
  {
   "cell_type": "code",
   "execution_count": 5,
   "id": "e551ac75",
   "metadata": {},
   "outputs": [],
   "source": [
    "idx = 0;i=0\n",
    "\n",
    "# 시간 리스트에 해당하는 이벤트 데이터 추출하여 데이터 세트 구성\n",
    "for lst in [list_A]: # list_A, list_B, list_C\n",
    "    for year in sorted(set(lst['year'])):\n",
    "        stream = lst[lst['year'] == year][['start','end']]\n",
    "        for row in range(stream.shape[0]):\n",
    "            start_time = datetime(year,int(stream.index[row]),stream['start']['day'][row],stream['start']['hour'][row],stream['start']['min'][row],0)\n",
    "            end_time = datetime(year,int(stream.index[row]),stream['end']['day'][row],stream['end']['hour'][row],stream['end']['min'][row],0)\n",
    "\n",
    "            mean = Data[start_time:end_time][para].mean() ; std = Data[start_time:end_time][para].std()\n",
    "\n",
    "            plt.errorbar(Data[start_time:end_time]['r_sun'].mean(),Data[start_time:end_time][para].mean()\\\n",
    "            ,ecolor=color[year],yerr=2*Data[start_time:end_time][para].std(),elinewidth=1,fmt='{}s'.format(color[year][0]),capsize=4,ms=7)            \n",
    "            \n",
    "            r_list.append(Data[start_time:end_time]['r_sun'].mean())\n",
    "            mean_list.append(mean);std_list.append(std)\n",
    "\n",
    "            try:\n",
    "                globals()['Data{}'.format(idx+1)] = pd.concat([globals()['Data{}'.format(idx+1)],Data[start_time:end_time]])\n",
    "            except KeyError:\n",
    "                globals()['Data{}'.format(idx+1)] = Data[start_time:end_time]"
   ]
  },
  {
   "cell_type": "code",
   "execution_count": 6,
   "id": "727c8754",
   "metadata": {},
   "outputs": [
    {
     "name": "stdout",
     "output_type": "stream",
     "text": [
      "<class 'pandas.core.frame.DataFrame'>\n",
      "DatetimeIndex: 5737 entries, 1975-01-28 19:05:32 to 1977-12-01 04:59:21\n",
      "Data columns (total 28 columns):\n",
      " #   Column        Non-Null Count  Dtype  \n",
      "---  ------        --------------  -----  \n",
      " 0   Bx            5737 non-null   float64\n",
      " 1   By            5737 non-null   float64\n",
      " 2   Bz            5737 non-null   float64\n",
      " 3   Tp_par        5737 non-null   float64\n",
      " 4   Tp_perp       5737 non-null   float64\n",
      " 5   r_sun         5737 non-null   float64\n",
      " 6   n_p           5737 non-null   float64\n",
      " 7   vp_x          5737 non-null   float64\n",
      " 8   vp_y          5737 non-null   float64\n",
      " 9   vp_z          5737 non-null   float64\n",
      " 10  vth_p_par     5737 non-null   float64\n",
      " 11  vth_p_perp    5737 non-null   float64\n",
      " 12  B             5737 non-null   float64\n",
      " 13  A             5737 non-null   float64\n",
      " 14  v             5737 non-null   float64\n",
      " 15  beta          5737 non-null   float64\n",
      " 16  T             5737 non-null   float64\n",
      " 17  lam2          5737 non-null   float64\n",
      " 18  fre2          5737 non-null   float64\n",
      " 19  angle         5737 non-null   float64\n",
      " 20  fre_unmag     5737 non-null   float64\n",
      " 21  new_alf       5737 non-null   float64\n",
      " 22  ex_t          5737 non-null   float64\n",
      " 23  logarithm     5737 non-null   float64\n",
      " 24  chandran_fre  5737 non-null   float64\n",
      " 25  c_n           5737 non-null   float64\n",
      " 26  entro         5737 non-null   float64\n",
      " 27  alf_v         5737 non-null   float64\n",
      "dtypes: float64(28)\n",
      "memory usage: 1.3 MB\n",
      "None\n"
     ]
    }
   ],
   "source": [
    "# 데이터의 대략적인 정보 파악\n",
    "dt = Data1 # Data1, Data2, Data3\n",
    "print(dt.info())"
   ]
  },
  {
   "cell_type": "markdown",
   "id": "5c2bb93d",
   "metadata": {},
   "source": [
    "# 각 변수에 따라서 LSM 실시"
   ]
  },
  {
   "cell_type": "code",
   "execution_count": 7,
   "id": "dc1cc978",
   "metadata": {},
   "outputs": [],
   "source": [
    "# scipy에서 사용할 모델 예측\n",
    "def func(x, a, b):\n",
    "    return np.log(a) + b * np.log(x)"
   ]
  },
  {
   "cell_type": "code",
   "execution_count": 8,
   "id": "2a2a8496",
   "metadata": {},
   "outputs": [
    {
     "name": "stderr",
     "output_type": "stream",
     "text": [
      "c:\\users\\hjm01\\miniconda3\\lib\\site-packages\\ipykernel_launcher.py:3: RuntimeWarning: invalid value encountered in log\n",
      "  This is separate from the ipykernel package so we can avoid doing imports until\n"
     ]
    }
   ],
   "source": [
    "count = 0\n",
    "for fit in [Data1]: # Data1, Data2, Data3\n",
    "    fit = fit.dropna(axis=0)\n",
    "    xx = fit['r_sun'];yy = fit[para]\n",
    "\n",
    "    x = np.linspace(0.3,1,10000) # 거리 0.3AU부터 1.0AU까지 지정\n",
    "\n",
    "    export_list = np.empty((0,len(r_list)),float) # LSM을 위한 빈 리스트 생성\n",
    "    for mn,sd in zip(mean_list,std_list):\n",
    "        export_list = np.append(export_list,np.random.normal(mn,sd,10000))\n",
    "\n",
    "    export_list = export_list.reshape(-1,10000).transpose()\n",
    "\n",
    "    large = [] ;gamma = []\n",
    "\n",
    "    for list_idx in range(10000):\n",
    "        xxx = r_list; yyy = abs(export_list[list_idx]) # mean_list\n",
    "        popt, pcov = curve_fit(func,xxx,np.log(yyy)) # curve_fit 함수로 LSM실시\n",
    "\n",
    "        # 얻은 값들은 리스트에 저장\n",
    "        large.append(popt[0])\n",
    "        gamma.append(popt[1])\n",
    "\n",
    "    func_text = r\"${:.2f}\\/R^{{{:.2f}\\pm{:.2f}}}$\".format(np.mean(large),np.mean(gamma),2*np.std(gamma))\n",
    "    plt.plot(x,np.e**func(x,np.mean(large),np.mean(gamma)),'--',linewidth=3,color='black')\n",
    "\n",
    "    plt.title(func_text,fontsize=15)\n",
    "    count += 1"
   ]
  },
  {
   "cell_type": "code",
   "execution_count": 9,
   "id": "892be4a6",
   "metadata": {},
   "outputs": [
    {
     "data": {
      "text/plain": [
       "Text(0, 1, '$A_{c}$')"
      ]
     },
     "execution_count": 9,
     "metadata": {},
     "output_type": "execute_result"
    }
   ],
   "source": [
    "# 그림 그리기 및 거리에 진행함에 따라 변화 트렌드 파악\n",
    "\n",
    "red = mpatches.Patch(color=color[1975],label=\"1975\")\n",
    "blue = mpatches.Patch(color=color[1976],label=\"1976\")\n",
    "green = mpatches.Patch(color=color[1977],label=\"1977\")\n",
    "\n",
    "plt.xlim(0.3,1)#;plt.ylim(1.1*10**4,7*10**5)\n",
    "plt.xscale('log');plt.yscale('log');plt.legend(handles=[red,blue,green])\n",
    "plt.xticks(np.arange(0.3,1 +0.1,0.1),map(str,np.linspace(3,10,8,endpoint=True)/10),fontsize=15);plt.yticks(fontsize=15)\n",
    "label_list = {'T':r'$T_{p}[K]$','Tp_perp':r'$T_{\\perp}[K]$','Tp_par' : r'$T_{\\parallel}[K]$','c_n' : r'$A_{c}$'}\n",
    "plt.xlabel(r\"$R[AU]$\",fontsize=15);plt.ylabel(label_list[para],fontsize=15,rotation=0,loc='top',labelpad=-25)"
   ]
  },
  {
   "cell_type": "code",
   "execution_count": 10,
   "id": "d8fc30c6",
   "metadata": {},
   "outputs": [
    {
     "data": {
      "image/png": "[encoded data removed]",
      "text/plain": [
       "<Figure size 432x288 with 1 Axes>"
      ]
     },
     "metadata": {
      "needs_background": "light"
     },
     "output_type": "display_data"
    }
   ],
   "source": [
    "plt.show()"
   ]
  }
 ],
 "metadata": {
  "kernelspec": {
   "display_name": "Python 3 (ipykernel)",
   "language": "python",
   "name": "python3"
  },
  "language_info": {
   "codemirror_mode": {
    "name": "ipython",
    "version": 3
   },
   "file_extension": ".py",
   "mimetype": "text/x-python",
   "name": "python",
   "nbconvert_exporter": "python",
   "pygments_lexer": "ipython3",
   "version": "3.7.7"
  }
 },
 "nbformat": 4,
 "nbformat_minor": 5
}
