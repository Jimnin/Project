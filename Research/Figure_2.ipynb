{
 "cells": [
  {
   "cell_type": "markdown",
   "id": "de3e6876",
   "metadata": {},
   "source": [
    "# 필요한 라이브러리 불러오기"
   ]
  },
  {
   "cell_type": "code",
   "execution_count": 1,
   "id": "5e18f643",
   "metadata": {},
   "outputs": [],
   "source": [
    "import sys, os, glob, natsort\n",
    "import numpy as np\n",
    "import pandas as pd\n",
    "from matplotlib import pyplot as plt\n",
    "from matplotlib import colors, cm\n",
    "from matplotlib.offsetbox import TextArea, AnnotationBbox\n",
    "from mpl_toolkits.axes_grid1 import make_axes_locatable"
   ]
  },
  {
   "cell_type": "markdown",
   "id": "4e5247c2",
   "metadata": {},
   "source": [
    "# 디렉토리 설정 및 데이터 불러오기"
   ]
  },
  {
   "cell_type": "code",
   "execution_count": 2,
   "id": "d0d10aad",
   "metadata": {},
   "outputs": [
    {
     "name": "stdout",
     "output_type": "stream",
     "text": [
      "Data 변수 할당\n"
     ]
    }
   ],
   "source": [
    "os.chdir('C:/Users/hjm01/Desktop/겨울방학/alfven')\n",
    "csv_list = natsort.natsorted(glob.glob('*.csv'))\n",
    "\n",
    "parameter = ['r_sun','new_alf','vp_x','v','A','T','n_p']\n",
    "\n",
    "for i in csv_list:\n",
    "    Data_helios = pd.read_csv(i,index_col='Time',parse_dates=True)[parameter]\n",
    "    try:\n",
    "        Data = pd.concat([Data,Data_helios])\n",
    "    except NameError:\n",
    "        Data = Data_helios\n",
    "        print(\"Data 변수 할당\")"
   ]
  },
  {
   "cell_type": "markdown",
   "id": "78d5edef",
   "metadata": {},
   "source": [
    "# 필요한 변수 정의 및 데이터 특징에 따라 분류"
   ]
  },
  {
   "cell_type": "code",
   "execution_count": 3,
   "id": "32ea7395",
   "metadata": {},
   "outputs": [],
   "source": [
    "Data['ex_t'] = (1.5*10**8)*Data['r_sun']/Data['v']\n",
    "\n",
    "k = 1.38*10**(-16);e = 4.8*10**(-10); m = 1.67*10**(-24) #g\n",
    "Data['logarithm'] = np.log((3*np.sqrt(k*Data['T'])**3)/(2*e**3*np.sqrt(Data['n_p']*np.pi)))\n",
    "\n",
    "up = 4*np.sqrt(np.pi)*e**4*Data['n_p']*Data['logarithm']\n",
    "down = 3*np.sqrt(m)*np.sqrt(k*Data['T'])**3\n",
    "\n",
    "Data['chandran_fre'] = up/down\n",
    "\n",
    "Data['c_n'] = Data['ex_t']*Data['chandran_fre']\n",
    "\n",
    "Data1 = Data[Data['v'] >= 600].dropna(axis=0)\n",
    "Data2 = Data[(Data['v'] <= 450)&(abs(Data['new_alf']) >= 0.7)].dropna(axis=0)\n",
    "Data3 = Data[(Data['v'] <= 450)&(abs(Data['new_alf']) < 0.7)].dropna(axis=0)"
   ]
  },
  {
   "cell_type": "markdown",
   "id": "638eb328",
   "metadata": {},
   "source": [
    "# 히스토그램 그리기"
   ]
  },
  {
   "cell_type": "code",
   "execution_count": 4,
   "id": "fc03e026",
   "metadata": {},
   "outputs": [],
   "source": [
    "h1,xed,yed = np.histogram2d(Data1['c_n'],Data1['A'],bins=(np.logspace(-2,1,100),np.logspace(-1,1,100)))\n",
    "h2,_,_ = np.histogram2d(Data2['c_n'],Data2['A'],bins=(np.logspace(-2,1,100),np.logspace(-1,1,100)))\n",
    "h3,_,_ = np.histogram2d(Data3['c_n'],Data3['A'],bins=(np.logspace(-2,1,100),np.logspace(-1,1,100)))"
   ]
  },
  {
   "cell_type": "markdown",
   "id": "0f5596ac",
   "metadata": {},
   "source": [
    "# 각 특징에 따라서 정규화"
   ]
  },
  {
   "cell_type": "code",
   "execution_count": 6,
   "id": "b430984c",
   "metadata": {},
   "outputs": [],
   "source": [
    "for idx, limit in enumerate([h1,h2,h3]):\n",
    "    limit = np.array(limit)\n",
    "    limit[limit <= 10] = 0\n",
    "    globals()['h{}'.format(idx+1)] = limit\n",
    "\n",
    "# 가장 Count가 높은 값으로 정규화\n",
    "new_h1,new_h2,new_h3 = h1/h1.max(),h2/h2.max(),h3/h3.max()\n",
    "\n",
    "for i,hh in enumerate([new_h1,new_h2,new_h3]):\n",
    "    hh[hh == 0] = np.nan\n",
    "    globals()['new_h{}'.format(i+1)] = hh\n",
    "\n",
    "#pcolormesh로 그리기 위해 데이터프레임 회전\n",
    "new_h1 = list(zip(*new_h1));new_h2 = list(zip(*new_h2));new_h3 = list(zip(*new_h3))"
   ]
  },
  {
   "cell_type": "markdown",
   "id": "0cb4fa5b",
   "metadata": {},
   "source": [
    "# 그래프를 그려 트렌드 파악"
   ]
  },
  {
   "cell_type": "code",
   "execution_count": null,
   "id": "0cd99bd3",
   "metadata": {},
   "outputs": [],
   "source": [
    "fig, ax = plt.subplots(3,1,sharex=True,sharey=True,figsize=(10,15))\n",
    "\n"
   ]
  }
 ],
 "metadata": {
  "kernelspec": {
   "display_name": "Python 3 (ipykernel)",
   "language": "python",
   "name": "python3"
  },
  "language_info": {
   "codemirror_mode": {
    "name": "ipython",
    "version": 3
   },
   "file_extension": ".py",
   "mimetype": "text/x-python",
   "name": "python",
   "nbconvert_exporter": "python",
   "pygments_lexer": "ipython3",
   "version": "3.7.7"
  }
 },
 "nbformat": 4,
 "nbformat_minor": 5
}
