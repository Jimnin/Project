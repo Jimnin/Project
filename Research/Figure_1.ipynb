{
  "nbformat": 4,
  "nbformat_minor": 0,
  "metadata": {
    "colab": {
      "provenance": []
    },
    "kernelspec": {
      "name": "python3",
      "display_name": "Python 3"
    },
    "language_info": {
      "name": "python"
    }
  },
  "cells": [
    {
      "cell_type": "markdown",
      "source": [
        "# 필요한 라이브러리 불러오기"
      ],
      "metadata": {
        "id": "qI-SemHeuRw9"
      }
    },
    {
      "cell_type": "code",
      "source": [
        "import sys, os\n",
        "import numpy as np\n",
        "import pandas as pd\n",
        "from datetime import datetime, timedelta\n",
        "from matplotlib import pyplot as plt"
      ],
      "metadata": {
        "id": "Y1PbkVusuWJ2"
      },
      "execution_count": null,
      "outputs": []
    },
    {
      "cell_type": "markdown",
      "source": [
        "# 데이터 정의"
      ],
      "metadata": {
        "id": "HiUGql9SuZmU"
      }
    },
    {
      "cell_type": "code",
      "source": [
        "csv_list = 'helios1_1980.csv'\n",
        "parameter = ['r_sun','n_p','Bx','Tp_par','Tp_perp','T','A','v','new_alf']\n",
        "\n",
        "os.chdir('C:/Users/hjm01/Desktop/겨울방학/alfven')\n",
        "Data = pd.read_csv(csv_list,index_col='Time',parse_dates=True)[parameter]"
      ],
      "metadata": {
        "id": "1Nc0ex_hub81"
      },
      "execution_count": null,
      "outputs": []
    },
    {
      "cell_type": "markdown",
      "source": [
        "## 데이터 샘플링: 중복되는 포인트 제거"
      ],
      "metadata": {
        "id": "yUQ-kM55uddC"
      }
    },
    {
      "cell_type": "code",
      "source": [
        "period = '10T'\n",
        "\n",
        "Data = Data.resample(period).mean()"
      ],
      "metadata": {
        "id": "Y1mmtwXSuiJ4"
      },
      "execution_count": null,
      "outputs": []
    },
    {
      "cell_type": "markdown",
      "source": [
        "# 변수 정의"
      ],
      "metadata": {
        "id": "E33qftNquouX"
      }
    },
    {
      "cell_type": "code",
      "source": [
        "e = 4.8*10**(-10) ; m = 1.672*10**(-24) ; k = 1.381*10**(-16)\n",
        "\n",
        "start_time = datetime(1980,5,14,0,0,0)\n",
        "\n",
        "Data['ex_t'] = (1.5*10**8)*Data['r_sun']/Data['v']\n",
        "\n",
        "Data['logarithm'] = np.log((3*np.sqrt(k*Data['T'])**3)/(2*e**3*np.sqrt(Data['n_p']*np.pi)))\n",
        "\n",
        "up = 4*np.sqrt(np.pi)*e**4*Data['n_p']*Data['logarithm']\n",
        "down = 3*np.sqrt(m)*np.sqrt(k*Data['T'])**3\n",
        "\n",
        "Data['chandran_fre'] = up/down\n",
        "\n",
        "Data['c_n'] = Data['ex_t']*Data['chandran_fre']"
      ],
      "metadata": {
        "id": "EXmlftNeurJS"
      },
      "execution_count": null,
      "outputs": []
    },
    {
      "cell_type": "markdown",
      "source": [
        "# Type별 Stream List Up"
      ],
      "metadata": {
        "id": "WeSCQ4t7us-p"
      }
    },
    {
      "cell_type": "code",
      "source": [
        "os.chdir('C:/Users/hjm01/Desktop/겨울방학/alfven/type')\n",
        "B = pd.read_csv('type_'+str(csv_list),index_col=[0],parse_dates=True)\n",
        "\n",
        "zip_list = list(zip(B.index,B['type']))\n",
        "\n",
        "fig, ax = plt.subplots(6,1,sharex=True,figsize=(12,16),constrained_layout=False)\n",
        "plt.subplots_adjust(hspace=0)"
      ],
      "metadata": {
        "id": "o9hgH0oMu0qG"
      },
      "execution_count": null,
      "outputs": []
    },
    {
      "cell_type": "markdown",
      "source": [
        "# Alfvenicity 음영 효과"
      ],
      "metadata": {
        "id": "SC-YKYKrvLt5"
      }
    },
    {
      "cell_type": "code",
      "source": [
        "hour = 6\n",
        "for i,j in zip_list:\n",
        "  if j == 0:\n",
        "    ax[5].axvspan(i,i+timedelta(hours=hour),alpha=0.2,facecolor='red')\n",
        "  elif j == 1:\n",
        "    ax[5].axvspan(i,i+timedelta(hours=hour),alpha=0.2,facecolor='blue')\n",
        "  else:\n",
        "    pass"
      ],
      "metadata": {
        "id": "NLPrJfycvRNY"
      },
      "execution_count": null,
      "outputs": []
    },
    {
      "cell_type": "markdown",
      "source": [
        "# 그래프 Plot"
      ],
      "metadata": {
        "id": "nSqXKokTvTBq"
      }
    },
    {
      "cell_type": "code",
      "execution_count": null,
      "metadata": {
        "id": "aw2Yw4OFs5oq"
      },
      "outputs": [],
      "source": [
        "line1 = ax[0].plot(Data['v'],color='black',linewidth=1,label=r'$V_{sw}$')\n",
        "\n",
        "ax0 = ax[0].twinx()\n",
        "line2 = ax0.plot(Data['Bx'],color='blue',linewidth=1,label=r'$B_{r}$')\n",
        "ax0.set_yticks([-50,0,50,100])\n",
        "ax0.set_yticklabels([\"-50\",\"0\",\"50\",\"100\"],fontsize=15)\n",
        "\n",
        "ax[0].set_zorder(ax0.get_zorder() + 10)\n",
        "ax[0].patch.set_visible(False)\n",
        "\n",
        "ax[0].set_ylim(200,900)\n",
        "ax[0].set_yticks([400,600,800])\n",
        "ax[0].set_yticklabels(['400','600','800'],fontsize=15)\n",
        "ax[0].set_ylabel(r'$km/s,$'+'\\n'+'nT',fontsize=20,rotation=0,labelpad=40,y=0.3)\n",
        "ax[0].grid(axis='both',linestyle=':')\n",
        "leg = ax[0].legend(line1+line2,[l.get_label() for l in line1+line2],framealpha=0.3,handlelength=1,fontsize=20,edgecolor='white')\n",
        "leg_lines = leg.get_lines() ; plt.setp(leg_lines, linewidth=3)\n",
        "\n",
        "ax[1].plot(Data['n_p'],color='black',linewidth=1,label=r'$n_p$')\n",
        "ax[1].set_yscale('log') ; ax[1].set_ylim(5,200)\n",
        "ax[1].grid(linestyle=\":\")\n",
        "ax[1].set_yticks([10,100])\n",
        "ax[1].set_yticklabels([\"10\",\"100\"],fontsize=15)\n",
        "ax[1].set_ylabel(r'$cm^{-3}$',fontsize=20,rotation=0,labelpad=25)\n",
        "ax[1].legend(framealpha=0.3,handlelength=1,fontsize=20,edgecolor='white',loc='lower left')\n",
        "ax[1].minorticks_off()\n",
        "\n",
        "ax[2].plot(Data['Tp_perp']/10**6,color='red',linewidth=1,label=r'$T_{\\perp}$',zorder=1)\n",
        "ax[2].plot(Data['Tp_par']/10**6,color='blue',linewidth=1,label=r'$T_{\\parallel}$',zorder=0)\n",
        "ax[2].set_ylim(0.01,5)\n",
        "ax[2].set_yscale('log')\n",
        "ax[2].set_yticks([0.01,0.1,1])\n",
        "ax[2].set_yticklabels([\"0.01\",\"0.1\",\"1\"],fontsize=15)\n",
        "ax[2].grid(axis='both',linestyle=\":\")\n",
        "ax[2].minorticks_off()\n",
        "leg4 = ax[2].legend(framealpha=0.3,handlelength=1,fontsize=20,edgecolor='white',loc='upper left')\n",
        "plt.setp(leg4.get_lines(), linewidth=3)\n",
        "ax[2].set_ylabel('MK',fontsize=20,rotation=0,labelpad=70)\n",
        "ax[2].yaxis.set_label_position(\"left\") ; ax[2].yaxis.tick_right()\n",
        "\n",
        "ax[3].plot(Data['A'],color='black',linewidth=1)\n",
        "ax[3].set_ylim(0.5,5)\n",
        "ax[3].set_yscale('log')\n",
        "ax[3].set_yticks([0.5,1,5])\n",
        "ax[3].set_yticklabels([\"0.5\",\"1\",\"5\"],fontsize=15)\n",
        "ax[3].grid(axis='x',linestyle=\":\")\n",
        "ax[3].set_ylabel(r'$\\frac{T_{\\perp}}{T_{\\parallel}}$',fontsize=30,rotation=0,labelpad=35,y=0.3)\n",
        "ax[3].axhline(1,color='red',linestyle='--',linewidth=1,zorder=2)\n",
        "ax[3].minorticks_off()\n",
        "\n",
        "ax[4].plot(Data['c_n'],color='black',linewidth=1,label=r'$A_{c}$')\n",
        "ax[4].set_ylim(0.005,10)\n",
        "ax[4].set_yscale('log')\n",
        "ax[4].set_ylabel(r'$A_{c}$',fontsize=25,rotation=0,labelpad=60)\n",
        "ax[4].set_yticks([0.01,0.1,1])\n",
        "ax[4].set_yticklabels([\"0.01\",\"0.1\",\"1\"],fontsize=15)\n",
        "ax[4].grid(axis='x',linestyle=':')\n",
        "ax[4].axhline(1,color='red',linestyle='--',linewidth=1,zorder=2)\n",
        "ax[4].minorticks_off()\n",
        "ax[4].yaxis.set_label_position(\"left\") ; ax[4].yaxis.tick_right()\n",
        "\n",
        "ax[5].scatter(Data.resample('30T').mean().index,abs(Data['new_alf'].resample('30T').mean()),color='black',s=2,zorder=2)\n",
        "ax[5].set_ylim(0,1)\n",
        "ax[5].set_yticks([0.2,0.4,0.6,0.8])\n",
        "ax[5].set_yticklabels(['0.2','0.4','0.6','0.8'],fontsize=15)\n",
        "ax[5].set_ylabel(r'$|\\sigma_{c}|$',fontsize=25,rotation=0,labelpad=35)\n",
        "ax[5].grid(axis='x',linestyle=':')\n",
        "\n",
        "ax[5].axhline(0.7,color='red',linestyle='--',linewidth=1,zorder=2)\n",
        "\n",
        "line3 = ax[5].plot(Data['r_sun'],color='grey',label=r\"$R[AU]$\",zorder=10,linewidth=2)\n",
        "leg3 = ax[5].legend(fontsize=20,handlelength=1,loc=\"lower right\",edgecolor='white')\n",
        "leg_lines3 = leg3.get_lines() ; plt.setp(leg_lines3, linewidth=3)\n",
        "\n",
        "\n",
        "ax[5].set_xlim(start_time,start_time+timedelta(days=35))\n",
        "ax[0].set_title('Helios 1(1980)',fontsize=30)\n",
        "plt.setp(ax[5].get_xticklabels(), fontsize=20,rotation=-25)\n",
        "\n",
        "plt.show()"
      ]
    }
  ]
}